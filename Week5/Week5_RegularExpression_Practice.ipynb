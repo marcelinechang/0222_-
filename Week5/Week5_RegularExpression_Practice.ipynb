{
 "cells": [
  {
   "cell_type": "code",
   "execution_count": 1,
   "id": "36985c4f",
   "metadata": {},
   "outputs": [],
   "source": [
    "import re\n",
    "import pandas as pd"
   ]
  },
  {
   "cell_type": "code",
   "execution_count": 2,
   "id": "ea200ec4",
   "metadata": {},
   "outputs": [
    {
     "data": {
      "text/plain": [
       "'window._4d = window._4d || {}; window._4d.context = window._4d.context || {\"wordcount\":25,brand:\"gq-taiwan\",topics:[],url:\"https://www.gq.com.tw/article/葬送的芙莉蓮-金句\",desc:\"有些動漫靠流暢熱血的打鬥場面走紅、有些動漫靠細水長流飽滿扎實的劇情引人入勝，而也有如《葬送的芙莉蓮》這般特別的動漫，劇情一開始就打完大魔王迎來和平世代，一開始主角團就只剩芙莉蓮一人繼續展開旅行，沒有刺激的劇情、沒有日系動漫的固定劇本，但隨著音樂、畫面、台詞的循序漸進，你卻會不知不覺地陷入到故事裡，甚至在平淡的日常中找到共鳴流下眼淚，這就是2023最大黑馬《葬送的芙莉蓮》的溫柔魅力！\",image:\"http://media.gq.com.tw/photos/6593995613957e08ffcca06a/master/pass/01_03-6.jpg\",keywords:{\"list\":[],delimited:\"\"},entities:[],pubdate:\"2024-01-02T05:29:41.504Z\",title:\"「就算職業不是戰士，努力過的人都是戰士」，《葬送的芙莉蓮》平淡卻溫柔到讓人流淚！盤點關於友情和人生的14大金句\",authors:[\"Bakery Kung\",Mermaid Chang]};<h2 class=\"css-embd1i e1tmud0h7\">《葬送的芙莉蓮》名言1：「這只佔了我百分之一歲月的旅途，改變了我。」</h2><p class=\"css-1ys7se7 et3p2gv0\">芙莉蓮是存活千年的精靈魔法使，向來獨來獨往的她，在與勇士們結束長達10年的冒險後，想法漸漸有所改變。對人類來說，10年是很長的時間，但對芙莉蓮只是轉瞬間的時光。當她發現昔日珍惜的夥伴蒼老、死去，她才明白那百分之一的歲月，已經改變了她。</p><h2 class=\"css-1e9uzco e1tmud0h7\">《葬送的芙莉蓮》名言2：「你的勇氣或許會被風吹散，隨著時間消逝，但我會帶著關於你的記憶，走向未來。」</h2><p class=\"css-1tffson et3p2gv0\">芙莉蓮決定重新踏上冒險征途，在旅途中她遇見不同的新夥伴，而在他們身上，芙莉蓮看見過往夥伴的影子。他們輕輕地走進芙莉蓮千年的人生中，留下回憶後飄散。時間也許會帶走我們身邊美好的是事物，但回憶的力量，能讓我們帶著他們繼續向前進。</p><h2 class=\"css-1e9uzco e1tmud0h7\">《葬送的芙莉蓮》名言3：「需要的只是決心而已，拼命累積的東西絕對不會背叛自己。」</h2><p class=\"css-1tffson et3p2gv0\">不管是求學時期、或是出社會後，面對人生中未知的各樣挑戰，有時我們不免會躊躇不前，深怕走錯。但就如《葬送的芙莉蓮》所說，累積的東西不會背叛自己，回頭看看過去那個努力、拼命的自己，不管眼前是什麼樣的挑戰，你一定都有辦法迎刃而解！</p><img srcset=\"https://hips.hearstapps.com/hmg-prod/images/atfrieren-pr-1-65f7e09a0aa2b.jfif?crop=1xw:1xh;center,top&amp;resize=640:* 640w, https://hips.hearstapps.com/hmg-prod/images/atfrieren-pr-1-65f7e09a0aa2b.jfif?crop=1xw:1xh;center,top&amp;resize=980:* 980w\" alt=\"《葬送的芙莉蓮》催淚人生金句盤點\" data-cy=\"slide-image-4\" src=\"https://hips.hearstapps.com/hmg-prod/images/atfrieren-pr-1-65f7e09a0aa2b.jfif?crop=1xw:1xh;center,top&amp;resize=980:*\" title=\"《葬送的芙莉蓮》催淚人生金句盤點\" width=\"1200\" height=\"675\" decoding=\"async\" loading=\"lazy\"><h2 class=\"css-1e9uzco e1tmud0h7\">《葬送的芙莉蓮》名言4：「害怕並不是什麼壞事，是這份恐懼帶我走到今天。」</h2><p class=\"css-1tffson et3p2gv0\">戒慎恐懼、小心謹慎，有時反而能成為你的動力，讓你向更好的未來邁進。</p><h2 class=\"css-1e9uzco e1tmud0h7\">《葬送的芙莉蓮》名言5：「對戰士來說，能站到最後一刻的就是贏家。」</h2><div class=\"css-tmj2mr e1tmud0h5\"><div class=\"css-7iuliy e1tmud0h6\"><p class=\"css-1tffson et3p2gv0\">人生就像是一場冒險，你無法預知前方有什麼樣的困難等待著你，我們只能一路打怪、一路吸取經驗值。即便你覺得自己的人生很渺小， 努力過的人就都是戰士。</p></div></div><h2 class=\"css-1e9uzco e1tmud0h7\">《葬送的芙莉蓮》名言6：「努力過的人都是戰士。」</h2>'"
      ]
     },
     "execution_count": 2,
     "metadata": {},
     "output_type": "execute_result"
    }
   ],
   "source": [
    "data = pd.read_csv(\"Frieren.txt\")\n",
    "inspiring_words = ','.join([_ for _ in data.columns])\n",
    "inspiring_words"
   ]
  },
  {
   "cell_type": "code",
   "execution_count": 3,
   "id": "3d0fc82f",
   "metadata": {},
   "outputs": [
    {
     "name": "stdout",
     "output_type": "stream",
     "text": [
      "《葬送的芙莉蓮》名言1：「這只佔了我百分之一歲月的旅途，改變了我。」\n",
      "《葬送的芙莉蓮》名言2：「你的勇氣或許會被風吹散，隨著時間消逝，但我會帶著關於你的記憶，走向未來。」\n",
      "《葬送的芙莉蓮》名言3：「需要的只是決心而已，拼命累積的東西絕對不會背叛自己。」\n",
      "《葬送的芙莉蓮》名言4：「害怕並不是什麼壞事，是這份恐懼帶我走到今天。」\n",
      "《葬送的芙莉蓮》名言5：「對戰士來說，能站到最後一刻的就是贏家。」\n",
      "《葬送的芙莉蓮》名言6：「努力過的人都是戰士。」\n"
     ]
    }
   ],
   "source": [
    "text = inspiring_words\n",
    "pattern = r'《葬送的芙莉蓮》名言\\d+：「[^」]+」'\n",
    "matches = re.findall(pattern, text)\n",
    "\n",
    "for match in matches:\n",
    "    print(match)"
   ]
  },
  {
   "cell_type": "code",
   "execution_count": null,
   "id": "18db15ce",
   "metadata": {},
   "outputs": [],
   "source": []
  }
 ],
 "metadata": {
  "kernelspec": {
   "display_name": "Python 3 (ipykernel)",
   "language": "python",
   "name": "python3"
  },
  "language_info": {
   "codemirror_mode": {
    "name": "ipython",
    "version": 3
   },
   "file_extension": ".py",
   "mimetype": "text/x-python",
   "name": "python",
   "nbconvert_exporter": "python",
   "pygments_lexer": "ipython3",
   "version": "3.9.7"
  }
 },
 "nbformat": 4,
 "nbformat_minor": 5
}
