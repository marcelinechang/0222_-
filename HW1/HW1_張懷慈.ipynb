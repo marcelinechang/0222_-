{
 "cells": [
  {
   "cell_type": "markdown",
   "id": "11463727",
   "metadata": {},
   "source": [
    "## 資料集資訊\n",
    "### Source: Kaggle \n",
    "### Dataset: Spotify Top 100 Songs of 2010-2019\n",
    "<https://www.kaggle.com/datasets/muhmores/spotify-top-100-songs-of-20152019?select=Spotify+2010+-+2019+Top+100.csv>\n",
    "### Size: 102.76 KB"
   ]
  },
  {
   "cell_type": "code",
   "execution_count": 1,
   "id": "26147a66",
   "metadata": {},
   "outputs": [],
   "source": [
    "import pandas as pd\n",
    "import numpy as np"
   ]
  },
  {
   "cell_type": "code",
   "execution_count": 2,
   "id": "a93ec142",
   "metadata": {},
   "outputs": [],
   "source": [
    "top_hits = pd.read_csv('Spotify 2010 - 2019 Top 100.csv')"
   ]
  },
  {
   "cell_type": "code",
   "execution_count": 3,
   "id": "06233418",
   "metadata": {},
   "outputs": [
    {
     "data": {
      "text/html": [
       "<div>\n",
       "<style scoped>\n",
       "    .dataframe tbody tr th:only-of-type {\n",
       "        vertical-align: middle;\n",
       "    }\n",
       "\n",
       "    .dataframe tbody tr th {\n",
       "        vertical-align: top;\n",
       "    }\n",
       "\n",
       "    .dataframe thead th {\n",
       "        text-align: right;\n",
       "    }\n",
       "</style>\n",
       "<table border=\"1\" class=\"dataframe\">\n",
       "  <thead>\n",
       "    <tr style=\"text-align: right;\">\n",
       "      <th></th>\n",
       "      <th>title</th>\n",
       "      <th>artist</th>\n",
       "      <th>top genre</th>\n",
       "      <th>year released</th>\n",
       "      <th>added</th>\n",
       "      <th>bpm</th>\n",
       "      <th>nrgy</th>\n",
       "      <th>dnce</th>\n",
       "      <th>dB</th>\n",
       "      <th>live</th>\n",
       "      <th>val</th>\n",
       "      <th>dur</th>\n",
       "      <th>acous</th>\n",
       "      <th>spch</th>\n",
       "      <th>pop</th>\n",
       "      <th>top year</th>\n",
       "      <th>artist type</th>\n",
       "    </tr>\n",
       "  </thead>\n",
       "  <tbody>\n",
       "    <tr>\n",
       "      <th>0</th>\n",
       "      <td>STARSTRUKK (feat. Katy Perry)</td>\n",
       "      <td>3OH!3</td>\n",
       "      <td>dance pop</td>\n",
       "      <td>2009</td>\n",
       "      <td>2022‑02‑17</td>\n",
       "      <td>140</td>\n",
       "      <td>81</td>\n",
       "      <td>61</td>\n",
       "      <td>-6</td>\n",
       "      <td>23</td>\n",
       "      <td>23</td>\n",
       "      <td>203</td>\n",
       "      <td>0</td>\n",
       "      <td>6</td>\n",
       "      <td>70</td>\n",
       "      <td>2010</td>\n",
       "      <td>Duo</td>\n",
       "    </tr>\n",
       "    <tr>\n",
       "      <th>1</th>\n",
       "      <td>My First Kiss (feat. Ke$ha)</td>\n",
       "      <td>3OH!3</td>\n",
       "      <td>dance pop</td>\n",
       "      <td>2010</td>\n",
       "      <td>2022‑02‑17</td>\n",
       "      <td>138</td>\n",
       "      <td>89</td>\n",
       "      <td>68</td>\n",
       "      <td>-4</td>\n",
       "      <td>36</td>\n",
       "      <td>83</td>\n",
       "      <td>192</td>\n",
       "      <td>1</td>\n",
       "      <td>8</td>\n",
       "      <td>68</td>\n",
       "      <td>2010</td>\n",
       "      <td>Duo</td>\n",
       "    </tr>\n",
       "    <tr>\n",
       "      <th>2</th>\n",
       "      <td>I Need A Dollar</td>\n",
       "      <td>Aloe Blacc</td>\n",
       "      <td>pop soul</td>\n",
       "      <td>2010</td>\n",
       "      <td>2022‑02‑17</td>\n",
       "      <td>95</td>\n",
       "      <td>48</td>\n",
       "      <td>84</td>\n",
       "      <td>-7</td>\n",
       "      <td>9</td>\n",
       "      <td>96</td>\n",
       "      <td>243</td>\n",
       "      <td>20</td>\n",
       "      <td>3</td>\n",
       "      <td>72</td>\n",
       "      <td>2010</td>\n",
       "      <td>Solo</td>\n",
       "    </tr>\n",
       "    <tr>\n",
       "      <th>3</th>\n",
       "      <td>Airplanes (feat. Hayley Williams of Paramore)</td>\n",
       "      <td>B.o.B</td>\n",
       "      <td>atl hip hop</td>\n",
       "      <td>2010</td>\n",
       "      <td>2022‑02‑17</td>\n",
       "      <td>93</td>\n",
       "      <td>87</td>\n",
       "      <td>66</td>\n",
       "      <td>-4</td>\n",
       "      <td>4</td>\n",
       "      <td>38</td>\n",
       "      <td>180</td>\n",
       "      <td>11</td>\n",
       "      <td>12</td>\n",
       "      <td>80</td>\n",
       "      <td>2010</td>\n",
       "      <td>Solo</td>\n",
       "    </tr>\n",
       "    <tr>\n",
       "      <th>4</th>\n",
       "      <td>Nothin' on You (feat. Bruno Mars)</td>\n",
       "      <td>B.o.B</td>\n",
       "      <td>atl hip hop</td>\n",
       "      <td>2010</td>\n",
       "      <td>2022‑02‑17</td>\n",
       "      <td>104</td>\n",
       "      <td>85</td>\n",
       "      <td>69</td>\n",
       "      <td>-6</td>\n",
       "      <td>9</td>\n",
       "      <td>74</td>\n",
       "      <td>268</td>\n",
       "      <td>39</td>\n",
       "      <td>5</td>\n",
       "      <td>79</td>\n",
       "      <td>2010</td>\n",
       "      <td>Solo</td>\n",
       "    </tr>\n",
       "  </tbody>\n",
       "</table>\n",
       "</div>"
      ],
      "text/plain": [
       "                                           title      artist    top genre  \\\n",
       "0                  STARSTRUKK (feat. Katy Perry)       3OH!3    dance pop   \n",
       "1                    My First Kiss (feat. Ke$ha)       3OH!3    dance pop   \n",
       "2                                I Need A Dollar  Aloe Blacc     pop soul   \n",
       "3  Airplanes (feat. Hayley Williams of Paramore)       B.o.B  atl hip hop   \n",
       "4              Nothin' on You (feat. Bruno Mars)       B.o.B  atl hip hop   \n",
       "\n",
       "   year released       added  bpm  nrgy  dnce  dB  live  val  dur  acous  \\\n",
       "0           2009  2022‑02‑17  140    81    61  -6    23   23  203      0   \n",
       "1           2010  2022‑02‑17  138    89    68  -4    36   83  192      1   \n",
       "2           2010  2022‑02‑17   95    48    84  -7     9   96  243     20   \n",
       "3           2010  2022‑02‑17   93    87    66  -4     4   38  180     11   \n",
       "4           2010  2022‑02‑17  104    85    69  -6     9   74  268     39   \n",
       "\n",
       "   spch  pop  top year artist type  \n",
       "0     6   70      2010         Duo  \n",
       "1     8   68      2010         Duo  \n",
       "2     3   72      2010        Solo  \n",
       "3    12   80      2010        Solo  \n",
       "4     5   79      2010        Solo  "
      ]
     },
     "execution_count": 3,
     "metadata": {},
     "output_type": "execute_result"
    }
   ],
   "source": [
    "top_hits.head()"
   ]
  },
  {
   "cell_type": "markdown",
   "id": "563fa563",
   "metadata": {},
   "source": [
    "## 三年人氣王\n",
    "找出2017-2019年都有上榜的藝人，並看看這些藝人這3年上榜的次數"
   ]
  },
  {
   "cell_type": "code",
   "execution_count": 4,
   "id": "42804dc4",
   "metadata": {},
   "outputs": [],
   "source": [
    "top_artist_2019_set = set(top_hits.loc[top_hits['top year'] == 2019,'artist'])\n",
    "top_artist_2018_set = set(top_hits.loc[top_hits['top year'] == 2018,'artist'])\n",
    "top_artist_2017_set = set(top_hits.loc[top_hits['top year'] == 2017,'artist'])"
   ]
  },
  {
   "cell_type": "code",
   "execution_count": 5,
   "id": "6e3af0b0",
   "metadata": {},
   "outputs": [
    {
     "data": {
      "text/plain": [
       "{'Billie Eilish',\n",
       " 'Cardi B',\n",
       " 'Drake',\n",
       " 'Halsey',\n",
       " 'Khalid',\n",
       " 'Post Malone',\n",
       " 'Taylor Swift',\n",
       " 'Travis Scott'}"
      ]
     },
     "execution_count": 5,
     "metadata": {},
     "output_type": "execute_result"
    }
   ],
   "source": [
    "top_artist_intersection = top_artist_2019_set & top_artist_2018_set & top_artist_2017_set\n",
    "top_artist_intersection"
   ]
  },
  {
   "cell_type": "code",
   "execution_count": 6,
   "id": "48ad0bbe",
   "metadata": {},
   "outputs": [
    {
     "data": {
      "text/plain": [
       "Post Malone      10\n",
       "Drake             8\n",
       "Billie Eilish     6\n",
       "Cardi B           6\n",
       "Taylor Swift      6\n",
       "Khalid            5\n",
       "Travis Scott      4\n",
       "Halsey            3\n",
       "Name: artist, dtype: int64"
      ]
     },
     "execution_count": 6,
     "metadata": {},
     "output_type": "execute_result"
    }
   ],
   "source": [
    "top_hits.loc[top_hits['artist'].isin(top_artist_intersection) & top_hits['top year'].isin([2019,2018,2017]),'artist'].value_counts()"
   ]
  },
  {
   "cell_type": "markdown",
   "id": "a2d160f0",
   "metadata": {},
   "source": [
    "## This is trend\n",
    "找出2017-2019的上榜的音樂類型有哪些，看看三年潮流類型與最熱門音樂類型前5名"
   ]
  },
  {
   "cell_type": "code",
   "execution_count": 7,
   "id": "2d4632d3",
   "metadata": {},
   "outputs": [
    {
     "name": "stdout",
     "output_type": "stream",
     "text": [
      "共有66種類型音樂： {'indie rock', 'grime', 'indie pop rap', 'emo rap', 'folk-pop', 'ohio hip hop', 'dark clubbing', 'chicago rap', 'hip hop', 'dfw rap', 'afro dancehall', 'florida rap', 'alternative dance', 'boy band', 'dirty south rap', 'edm', 'bedroom pop', 'big room', 'canadian hip hop', 'memphis hip hop', 'comedy rap', 'brostep', 'uk drill', 'rap', 'modern alternative rock', 'cali rap', 'classic rock', 'north carolina hip hop', 'afroswing', 'london rap', 'dance pop', 'black americana', 'aussietronica', 'alternative pop rock', 'k-pop', 'hollywood', 'detroit hip hop', 'lgbtq+ hip hop', 'latin', 'hawaiian hip hop', 'indie poptimism', 'pop rap', 'basshall', 'art pop', 'israeli pop', 'indie pop', 'canadian pop', 'uk hip hop', 'electropop', 'pop', 'indietronica', 'melodic rap', 'social media pop', 'alt z', 'modern rock', 'atl hip hop', 'afrofuturism', 'complextro', 'argentine hip hop', 'san diego rap', 'contemporary country', 'colombian pop', 'canadian contemporary r&b', 'conscious hip hop', 'gangster rap', 'alternative r&b'}\n"
     ]
    }
   ],
   "source": [
    "top_type_2019_set = set(top_hits.loc[top_hits['top year'] == 2019,'top genre'])\n",
    "top_type_2018_set = set(top_hits.loc[top_hits['top year'] == 2018,'top genre'])\n",
    "top_type_2017_set = set(top_hits.loc[top_hits['top year'] == 2017,'top genre'])\n",
    "total_type = top_type_2019_set | top_type_2018_set | top_type_2017_set\n",
    "print('共有'+str(len(total_type))+'種類型音樂：',total_type)"
   ]
  },
  {
   "cell_type": "code",
   "execution_count": 8,
   "id": "2af74507",
   "metadata": {},
   "outputs": [
    {
     "data": {
      "text/plain": [
       "dance pop      75\n",
       "pop            24\n",
       "atl hip hop    18\n",
       "art pop        13\n",
       "hip hop        12\n",
       "Name: top genre, dtype: int64"
      ]
     },
     "execution_count": 8,
     "metadata": {},
     "output_type": "execute_result"
    }
   ],
   "source": [
    "top_hits.loc[top_hits['top genre'].isin(total_type) & top_hits['top year'].isin([2019,2018,2017]),'top genre'].value_counts().head(5)"
   ]
  },
  {
   "cell_type": "markdown",
   "id": "0fbe037b",
   "metadata": {},
   "source": [
    "## 後浪推前浪\n",
    "以2010-2012、2017-2019這兩個區間做比較，找出在2010's後期才出現後起新秀"
   ]
  },
  {
   "cell_type": "code",
   "execution_count": 9,
   "id": "a16e620a",
   "metadata": {},
   "outputs": [],
   "source": [
    "artist_now_set = set(top_hits.loc[top_hits['top year'].isin([2019,2018,2017]),'artist'])\n",
    "artist_then_set = set(top_hits.loc[top_hits['top year'].isin([2012,2011,2010]),'artist'])\n",
    "new_star = (artist_now_set - artist_then_set)"
   ]
  },
  {
   "cell_type": "code",
   "execution_count": 10,
   "id": "85d83040",
   "metadata": {},
   "outputs": [
    {
     "data": {
      "text/plain": [
       "Post Malone         10\n",
       "Marshmello           6\n",
       "Billie Eilish        6\n",
       "Ariana Grande        6\n",
       "Cardi B              6\n",
       "Migos                6\n",
       "Khalid               5\n",
       "XXXTENTACION         4\n",
       "The Chainsmokers     4\n",
       "Travis Scott         4\n",
       "Name: artist, dtype: int64"
      ]
     },
     "execution_count": 10,
     "metadata": {},
     "output_type": "execute_result"
    }
   ],
   "source": [
    "top_hits.loc[top_hits['artist'].isin(new_star) & top_hits['top year'].isin([2019,2018,2017]),'artist'].value_counts().head(10)"
   ]
  },
  {
   "cell_type": "code",
   "execution_count": null,
   "id": "d8ee0e81",
   "metadata": {},
   "outputs": [],
   "source": []
  }
 ],
 "metadata": {
  "kernelspec": {
   "display_name": "Python 3 (ipykernel)",
   "language": "python",
   "name": "python3"
  },
  "language_info": {
   "codemirror_mode": {
    "name": "ipython",
    "version": 3
   },
   "file_extension": ".py",
   "mimetype": "text/x-python",
   "name": "python",
   "nbconvert_exporter": "python",
   "pygments_lexer": "ipython3",
   "version": "3.9.7"
  }
 },
 "nbformat": 4,
 "nbformat_minor": 5
}
